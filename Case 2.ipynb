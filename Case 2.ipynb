{
 "cells": [
  {
   "cell_type": "markdown",
   "source": [
    "# Data science blog using web API data from Kaggle"
   ],
   "metadata": {
    "collapsed": false
   }
  },
  {
   "cell_type": "markdown",
   "source": [
    "## Import libraries"
   ],
   "metadata": {
    "collapsed": false
   }
  },
  {
   "cell_type": "code",
   "execution_count": 1,
   "id": "1eb5483b",
   "metadata": {},
   "outputs": [],
   "source": [
    "import kaggle\n",
    "import streamlit as st\n",
    "import pandas as pd\n",
    "import numpy as np\n",
    "import seaborn as sns\n",
    "import matplotlib.pyplot as plt"
   ]
  },
  {
   "cell_type": "markdown",
   "source": [
    "## Import datasets"
   ],
   "metadata": {
    "collapsed": false
   }
  },
  {
   "cell_type": "code",
   "execution_count": 2,
   "id": "31cbd8c7",
   "metadata": {},
   "outputs": [
    {
     "name": "stdout",
     "output_type": "stream",
     "text": [
      "Airplane_Crashes_and_Fatalities_Since_1908_20190820105639.csv.zip: Skipping, found more recently modified local copy (use --force to force download)\r\n",
      "Aircraft_Incident_Dataset.csv.zip: Skipping, found more recently modified local copy (use --force to force download)\r\n"
     ]
    }
   ],
   "source": [
    "# Importing databases\n",
    "!kaggle datasets download --file Airplane_Crashes_and_Fatalities_Since_1908_20190820105639.csv -d cgurkan/airplane-crash-data-since-1908\n",
    "!kaggle datasets download --file Aircraft_Incident_Dataset.csv -d deepcontractor/aircraft-accidents-failures-hijacks-dataset"
   ]
  },
  {
   "cell_type": "code",
   "execution_count": null,
   "outputs": [],
   "source": [
    "import zipfile\n",
    "z1= zipfile.ZipFile('Aircraft_Incident_Dataset.csv.zip')\n",
    "z1.extractall()\n",
    "\n",
    "z2 = zipfile.ZipFile('Airplane_Crashes_and_Fatalities_Since_1908_20190820105639.csv.zip')\n",
    "z2.extractall()"
   ],
   "metadata": {
    "collapsed": false,
    "pycharm": {
     "is_executing": true
    }
   }
  },
  {
   "cell_type": "markdown",
   "id": "8273db0c",
   "metadata": {},
   "source": [
    "## Explore datasets"
   ]
  },
  {
   "cell_type": "markdown",
   "id": "412bc6e6",
   "metadata": {},
   "source": [
    "### Crashes"
   ]
  },
  {
   "cell_type": "code",
   "execution_count": null,
   "id": "6d74e41b",
   "metadata": {
    "scrolled": false,
    "pycharm": {
     "is_executing": true
    }
   },
   "outputs": [],
   "source": [
    "crashes = pd.read_csv('Airplane_Crashes_and_Fatalities_Since_1908_20190820105639.csv')\n",
    "crashes"
   ]
  },
  {
   "cell_type": "markdown",
   "id": "7203443c",
   "metadata": {},
   "source": [
    "The aviation accident database throughout the world, from 1908-2019.\n",
    "\n",
    "- All civil and commercial aviation accidents of scheduled and non-scheduled passenger airliners worldwide, which resulted in a fatality (including all U.S. Part 121 and Part 135 fatal accidents)\n",
    "- All cargo, positioning, ferry and test flight fatal accidents.\n",
    "- All military transport accidents with 10 or more fatalities.\n",
    "- All commercial and military helicopter accidents with greater than 10 fatalities.\n",
    "- All civil and military airship accidents involving fatalities.\n",
    "- Aviation accidents involving the death of famous people.\n",
    "- Aviation accidents or incidents of noteworthy interest."
   ]
  },
  {
   "cell_type": "code",
   "execution_count": null,
   "id": "eaf01c5c",
   "metadata": {
    "pycharm": {
     "is_executing": true
    }
   },
   "outputs": [],
   "source": [
    "crashes.shape"
   ]
  },
  {
   "cell_type": "code",
   "execution_count": null,
   "id": "376f1098",
   "metadata": {
    "pycharm": {
     "is_executing": true
    }
   },
   "outputs": [],
   "source": [
    "crashes.isnull().sum()"
   ]
  },
  {
   "cell_type": "code",
   "execution_count": null,
   "id": "09481dc6",
   "metadata": {
    "pycharm": {
     "is_executing": true
    }
   },
   "outputs": [],
   "source": [
    "crashes.describe()"
   ]
  },
  {
   "cell_type": "markdown",
   "id": "b3268b3f",
   "metadata": {},
   "source": [
    "### Accidents, failures & hijacks"
   ]
  },
  {
   "cell_type": "code",
   "execution_count": null,
   "id": "fceeec41",
   "metadata": {
    "pycharm": {
     "is_executing": true
    }
   },
   "outputs": [],
   "source": [
    "accidents = pd.read_csv('Aircraft_Incident_Dataset.csv')\n",
    "accidents"
   ]
  },
  {
   "cell_type": "markdown",
   "id": "bad34788",
   "metadata": {},
   "source": [
    "Worldwide accidents and hijackings involving airliners (12+ passengers), corporate jets and military transport aircraft since 1919."
   ]
  },
  {
   "cell_type": "code",
   "execution_count": null,
   "id": "295819fb",
   "metadata": {
    "pycharm": {
     "is_executing": true
    }
   },
   "outputs": [],
   "source": [
    "accidents.isnull().sum()"
   ]
  },
  {
   "cell_type": "code",
   "execution_count": null,
   "id": "26c40404",
   "metadata": {
    "scrolled": false,
    "pycharm": {
     "is_executing": true
    }
   },
   "outputs": [],
   "source": [
    "accidents.describe()"
   ]
  },
  {
   "cell_type": "markdown",
   "id": "624df609",
   "metadata": {},
   "source": [
    "## Initial data filtering"
   ]
  },
  {
   "cell_type": "code",
   "execution_count": null,
   "id": "e0b9bb94",
   "metadata": {
    "pycharm": {
     "is_executing": true
    }
   },
   "outputs": [],
   "source": [
    "crashes.drop(['Flight #', 'cn/ln', 'Summary'], axis = 1, inplace = True)"
   ]
  },
  {
   "cell_type": "code",
   "execution_count": null,
   "id": "4696bd77",
   "metadata": {
    "pycharm": {
     "is_executing": true
    }
   },
   "outputs": [],
   "source": [
    "crashes.head()"
   ]
  },
  {
   "cell_type": "code",
   "execution_count": null,
   "id": "83c527d0",
   "metadata": {
    "pycharm": {
     "is_executing": true
    }
   },
   "outputs": [],
   "source": [
    "accidents.drop(['Incident_Date', 'Aircaft_Model', 'Aircaft_Operator', 'Incident_Location', 'Date', 'Onboard_Crew', 'Onboard_Passengers', 'Onboard_Total', 'Fatalities', 'Departure_Airport', 'Destination_Airport', 'Ground_Casualties', 'Collision_Casualties', 'Arit', 'Time'], axis = 1, inplace = True)"
   ]
  },
  {
   "cell_type": "code",
   "execution_count": null,
   "id": "220675f6",
   "metadata": {
    "pycharm": {
     "is_executing": true
    }
   },
   "outputs": [],
   "source": [
    "accidents.head()"
   ]
  },
  {
   "cell_type": "code",
   "execution_count": null,
   "id": "bff196e3",
   "metadata": {
    "pycharm": {
     "is_executing": true
    }
   },
   "outputs": [],
   "source": [
    "sns.heatmap(crashes.isnull(),yticklabels=False,cbar=False,cmap = 'viridis')"
   ]
  },
  {
   "cell_type": "code",
   "execution_count": null,
   "id": "3ebd5431",
   "metadata": {
    "pycharm": {
     "is_executing": true
    }
   },
   "outputs": [],
   "source": [
    "Registration_NaN = crashes['Registration'].isnull().sum()/len(crashes['Registration'])*100\n",
    "print(str(Registration_NaN.round()) + \"% of the registration is unknown (NaN)\")"
   ]
  },
  {
   "cell_type": "code",
   "execution_count": null,
   "id": "417f715f",
   "metadata": {
    "pycharm": {
     "is_executing": true
    }
   },
   "outputs": [],
   "source": []
  }
 ],
 "metadata": {
  "kernelspec": {
   "display_name": "Python 3 (ipykernel)",
   "language": "python",
   "name": "python3"
  },
  "language_info": {
   "codemirror_mode": {
    "name": "ipython",
    "version": 3
   },
   "file_extension": ".py",
   "mimetype": "text/x-python",
   "name": "python",
   "nbconvert_exporter": "python",
   "pygments_lexer": "ipython3",
   "version": "3.9.13"
  }
 },
 "nbformat": 4,
 "nbformat_minor": 5
}
